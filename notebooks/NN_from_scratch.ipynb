{
 "cells": [
  {
   "cell_type": "markdown",
   "metadata": {
    "id": "1rYGX_s-QHKB"
   },
   "source": [
    "<h2 style=\"text-align:center;line-height:1.5em;font-size:30px;\">Neural Network from scratch in Python </h2>\n",
    "\n",
    "**Using only**\n",
    "<br> \n",
    "   \n",
    " 1. Numpy\n",
    " 2. Pandas <br>\n",
    " 3. MatplotLib<br>\n",
    " \n"
   ]
  },
  {
   "cell_type": "markdown",
   "metadata": {
    "id": "NYDQNxq5ZWt3"
   },
   "source": [
    "### Import Libraries"
   ]
  },
  {
   "cell_type": "code",
   "execution_count": 2,
   "metadata": {
    "id": "4F0nLUZUP7FP"
   },
   "outputs": [],
   "source": [
    "# importing libraries\n",
    "import numpy as np\n",
    "import pickle\n",
    "import random\n",
    "from matplotlib import pyplot as plt\n",
    "from keras.datasets import mnist"
   ]
  },
  {
   "cell_type": "markdown",
   "metadata": {
    "id": "DwEqRImDZacf"
   },
   "source": [
    "### Load & Preprocess Dataset"
   ]
  },
  {
   "cell_type": "code",
   "execution_count": 3,
   "metadata": {
    "colab": {
     "base_uri": "https://localhost:8080/",
     "height": 303
    },
    "id": "RXak324HQqoZ",
    "outputId": "76e92200-32c8-4f0f-d191-c67c53ea8edf"
   },
   "outputs": [
    {
     "name": "stdout",
     "output_type": "stream",
     "text": [
      "Train: X=(60000, 28, 28), y=(60000,)\n",
      "Test: X=(10000, 28, 28), y=(10000,)\n"
     ]
    },
    {
     "data": {
      "image/png": "[encoded data removed]",
      "text/plain": [
       "<Figure size 640x480 with 9 Axes>"
      ]
     },
     "metadata": {},
     "output_type": "display_data"
    }
   ],
   "source": [
    "# load the MNIST dataset\n",
    "(X_train, y_train), (X_test, y_test) = mnist.load_data()\n",
    "# summarize loaded dataset\n",
    "print('Train: X=%s, y=%s' % (X_train.shape, y_train.shape))\n",
    "print('Test: X=%s, y=%s' % (X_test.shape, y_test.shape))\n",
    "# plot first few images\n",
    "for i in range(9):\n",
    "    # define subplot\n",
    "    plt.subplot(330 + 1 + i)\n",
    "    # plot raw pixel data\n",
    "    plt.imshow(X_train[i], cmap='gray')\n",
    "# show the figure\n",
    "plt.show()"
   ]
  },
  {
   "cell_type": "code",
   "execution_count": 4,
   "metadata": {
    "id": "dDgIRL-hzW-U"
   },
   "outputs": [],
   "source": [
    "# preprocess the data\n",
    "X_train = X_train / 255.0\n",
    "X_test = X_test / 255.0"
   ]
  },
  {
   "cell_type": "code",
   "execution_count": 5,
   "metadata": {
    "colab": {
     "base_uri": "https://localhost:8080/"
    },
    "id": "B_ECwHisVCu5",
    "outputId": "9934743a-9b81-4cfa-a3d8-20a5a08e9d41"
   },
   "outputs": [
    {
     "data": {
      "text/plain": [
       "array([5, 0, 4, ..., 5, 6, 8], dtype=uint8)"
      ]
     },
     "execution_count": 5,
     "metadata": {},
     "output_type": "execute_result"
    }
   ],
   "source": [
    "y_train"
   ]
  },
  {
   "cell_type": "code",
   "execution_count": 6,
   "metadata": {
    "colab": {
     "base_uri": "https://localhost:8080/"
    },
    "id": "vuUmiejb2zfQ",
    "outputId": "8822d7aa-6bed-4fc2-c7a3-0f6b13024ab9"
   },
   "outputs": [
    {
     "data": {
      "text/plain": [
       "array([0, 1, 2, 3, 4, 5, 6, 7, 8, 9], dtype=uint8)"
      ]
     },
     "execution_count": 6,
     "metadata": {},
     "output_type": "execute_result"
    }
   ],
   "source": [
    "# get unique classes\n",
    "np.unique(y_train)"
   ]
  },
  {
   "cell_type": "code",
   "execution_count": 7,
   "metadata": {
    "colab": {
     "base_uri": "https://localhost:8080/"
    },
    "id": "t53ciecARbYi",
    "outputId": "060a84ae-5826-408a-e803-6c42598dcd66"
   },
   "outputs": [
    {
     "data": {
      "text/plain": [
       "(60000, 28, 28)"
      ]
     },
     "execution_count": 7,
     "metadata": {},
     "output_type": "execute_result"
    }
   ],
   "source": [
    "X_train.shape"
   ]
  },
  {
   "cell_type": "code",
   "execution_count": 8,
   "metadata": {
    "colab": {
     "base_uri": "https://localhost:8080/"
    },
    "id": "QZXNR949UEJ-",
    "outputId": "2408df18-3efe-479a-e4a7-4a8d627c0c9d"
   },
   "outputs": [
    {
     "data": {
      "text/plain": [
       "(28, 28)"
      ]
     },
     "execution_count": 8,
     "metadata": {},
     "output_type": "execute_result"
    }
   ],
   "source": [
    "X_train[0].shape"
   ]
  },
  {
   "cell_type": "code",
   "execution_count": 9,
   "metadata": {
    "id": "qhWrin5RSW69"
   },
   "outputs": [],
   "source": [
    "# originally the images in the dataset have no channel\n",
    "# reshape the images in the dataset to have a single channel\n",
    "'''\n",
    "X_train = X_train.reshape((X_train.shape[0], X_train.shape[1], X_train.shape[2], 1))\n",
    "X_test = X_test.reshape((X_test.shape[0], X_test.shape[1], X_test.shape[2], 1))\n",
    "'''\n",
    "# flatten each of the images in the dataset into 1D arrays\n",
    "X_train = X_train.reshape(-1, X_train.shape[1]*X_train.shape[2])\n",
    "X_test = X_test.reshape(-1, X_test.shape[1]*X_test.shape[2])"
   ]
  },
  {
   "cell_type": "code",
   "execution_count": 10,
   "metadata": {
    "colab": {
     "base_uri": "https://localhost:8080/"
    },
    "id": "lMSIPKaEVKBY",
    "outputId": "e7f2d6ab-db6d-491e-c93c-0bb39abe986c"
   },
   "outputs": [
    {
     "data": {
      "text/plain": [
       "(60000, 784)"
      ]
     },
     "execution_count": 10,
     "metadata": {},
     "output_type": "execute_result"
    }
   ],
   "source": [
    "X_train.shape"
   ]
  },
  {
   "cell_type": "code",
   "execution_count": 11,
   "metadata": {
    "id": "USR58B75Bqvd"
   },
   "outputs": [],
   "source": [
    "m, n = X_train.shape"
   ]
  },
  {
   "cell_type": "code",
   "execution_count": 12,
   "metadata": {
    "colab": {
     "base_uri": "https://localhost:8080/"
    },
    "id": "0aNtckOASmIu",
    "outputId": "d9df4054-2b8e-4e1c-8860-99a731a942bd"
   },
   "outputs": [
    {
     "data": {
      "text/plain": [
       "(784,)"
      ]
     },
     "execution_count": 12,
     "metadata": {},
     "output_type": "execute_result"
    }
   ],
   "source": [
    "X_train[0].shape"
   ]
  },
  {
   "cell_type": "code",
   "execution_count": 13,
   "metadata": {
    "colab": {
     "base_uri": "https://localhost:8080/"
    },
    "id": "4tXMRRSOQ7IY",
    "outputId": "6b155b79-9470-4c4a-e73d-216c042aa40f"
   },
   "outputs": [
    {
     "data": {
      "text/plain": [
       "(784, 60000)"
      ]
     },
     "execution_count": 13,
     "metadata": {},
     "output_type": "execute_result"
    }
   ],
   "source": [
    "X_train = X_train.T\n",
    "X_train.shape"
   ]
  },
  {
   "cell_type": "code",
   "execution_count": 14,
   "metadata": {
    "colab": {
     "base_uri": "https://localhost:8080/"
    },
    "id": "xQ0R0i-TJ6bm",
    "outputId": "ee252c39-9d1a-47bc-a8fb-ac54878dadef"
   },
   "outputs": [
    {
     "data": {
      "text/plain": [
       "(784, 10000)"
      ]
     },
     "execution_count": 14,
     "metadata": {},
     "output_type": "execute_result"
    }
   ],
   "source": [
    "X_test = X_test.T\n",
    "X_test.shape"
   ]
  },
  {
   "cell_type": "code",
   "execution_count": 15,
   "metadata": {
    "colab": {
     "base_uri": "https://localhost:8080/"
    },
    "id": "vR5FlqmZ1VnA",
    "outputId": "879e5edb-f24c-4451-b07e-2382dfe16369"
   },
   "outputs": [
    {
     "name": "stdout",
     "output_type": "stream",
     "text": [
      "784\n"
     ]
    }
   ],
   "source": [
    "arr = []\n",
    "for i in X_train:\n",
    "    arr.append(i[0])\n",
    "print(len(arr))"
   ]
  },
  {
   "cell_type": "markdown",
   "metadata": {
    "id": "HwtpVW_eZfMY"
   },
   "source": [
    "### Neural Network"
   ]
  },
  {
   "cell_type": "markdown",
   "metadata": {
    "id": "85lRqymNKAYG"
   },
   "source": [
    "#### Train"
   ]
  },
  {
   "cell_type": "code",
   "execution_count": 16,
   "metadata": {
    "id": "DoLMqlPBS9fj"
   },
   "outputs": [],
   "source": [
    "# initialize the weights and biases with random values\n",
    "def init_params():\n",
    "    # initialization of weights can be done either by rand or randn\n",
    "    # rand gives values from a uniform distribution in range [0, 1) with mean 0.5; we subtract the values by 0.5 to make the mean 0\n",
    "    # randn gives values from a standard normal distribution with mean 0 and standard deviation 1, but it is not bounded due to which convergence or improvement in performance takes longer\n",
    "    # initializing the weights to zero will lead all the neurons to learn the same features, which is not expected\n",
    "    W1 = np.random.rand(10, 784) - 0.5\n",
    "    # initialization of biases can be done either by rand or zeros\n",
    "    # any of the options feasible since the non-zero weights will not let the gradients vanish\n",
    "    b1 = np.random.rand(10, 1)\n",
    "    W2 = np.random.rand(20, 10) - 0.5\n",
    "    b2 = np.random.rand(20, 1)\n",
    "    W3 = np.random.rand(10, 20) - 0.5\n",
    "    b3 = np.random.rand(10, 1)\n",
    "    return W1, b1, W2, b2, W3, b3\n",
    "\n",
    "# define the activation functions\n",
    "def relu(Z):\n",
    "    return np.maximum(0, Z)\n",
    "\n",
    "def relu_deriv(Z):\n",
    "    return Z > 0\n",
    "\n",
    "def softmax(Z):\n",
    "    A = np.exp(Z) / sum(np.exp(Z))\n",
    "    return A\n",
    "\n",
    "# define the forward propagation\n",
    "def forward(W1, b1, W2, b2, W3, b3, X):\n",
    "    # calculate the activations for the first hidden layer\n",
    "    Z1 = np.dot(W1, X) + b1\n",
    "    A1 = relu(Z1)\n",
    "    # calculate the activations for the second hidden layer\n",
    "    Z2 = np.dot(W2, A1) + b2\n",
    "    A2 = relu(Z2)\n",
    "    # calculate the activations for the output layer\n",
    "    Z3 = np.dot(W3, A2) + b3\n",
    "    A3 = softmax(Z3)\n",
    "    return Z1, A1, Z2, A2, Z3, A3\n",
    "\n",
    "# one hot encoding\n",
    "def one_hot(y):\n",
    "    one_hot_y = np.zeros((y.size, y.max() + 1))\n",
    "    one_hot_y[np.arange(y.size), y] = 1\n",
    "    # the above line is similar to:\n",
    "    # for i, j in zip(range(y.size), y):\n",
    "    #   one_hot_y[i][j] = 1\n",
    "    one_hot_y = one_hot_y.T\n",
    "    return one_hot_y\n",
    "\n",
    "# define the backward propagation\n",
    "def backward(W1, Z1, A1, W2, Z2, A2, W3, Z3, A3, X, y):\n",
    "    one_hot_y = one_hot(y)\n",
    "    # calculate the change in weights and biases for the output layer\n",
    "    dZ3 = A3 - one_hot_y\n",
    "    dW3 = 1 / m * np.dot(dZ3, A2.T)\n",
    "    db3 = 1 / m * np.sum(dZ3)\n",
    "    # calculate the change in weights and biases for the second hidden layer\n",
    "    dZ2 = np.dot(W3.T, dZ3) * relu_deriv(Z2)\n",
    "    dW2 = 1 / m * np.dot(dZ2, A1.T)\n",
    "    db2 = 1 / m * np.sum(dZ2)\n",
    "    # calculate the change in weights and biases for the first hidden layer\n",
    "    dZ1 = np.dot(W2.T, dZ2) * relu_deriv(Z1)\n",
    "    dW1 = 1 / m * np.dot(dZ1, X.T)\n",
    "    db1 = 1 / m * np.sum(dZ1)\n",
    "    return dW1, db1, dW2, db2, dW3, db3\n",
    "\n",
    "# update the parameters\n",
    "def update_params(W1, b1, W2, b2, W3, b3, dW1, db1, dW2, db2, dW3, db3, alpha):\n",
    "    W1 -= alpha * dW1\n",
    "    b1 -= alpha * db1\n",
    "    W2 -= alpha * dW2\n",
    "    b2 -= alpha * db2\n",
    "    W3 -= alpha * dW3\n",
    "    b3 -= alpha * db3\n",
    "    return W1, b1, W2, b2, W3, b3"
   ]
  },
  {
   "cell_type": "code",
   "execution_count": 17,
   "metadata": {
    "id": "8UTMIxVU3ooy"
   },
   "outputs": [],
   "source": [
    "# get predictions from the output layer\n",
    "def get_predictions(A):\n",
    "    return np.argmax(A, axis = 0)\n",
    "\n",
    "# get accuracy value between 0 and 1\n",
    "def get_accuracy(predictions, y):\n",
    "    return np.sum(predictions == y) / y.size\n",
    "\n",
    "# fit the neural network with optimzer: gradient descent\n",
    "def gradient_descent(X, y, alpha, iterations):\n",
    "    # get initial values of the weights and biases\n",
    "    W1, b1, W2, b2, W3, b3 = init_params()\n",
    "    for i in range(iterations):\n",
    "        # forward pass - apply the current weights, biases, and activation on the input data to get output labels\n",
    "        Z1, A1, Z2, A2, Z3, A3 = forward(W1, b1, W2, b2, W3, b3, X)\n",
    "        # backward pass - calculate loss and gradients with respect to weights and biases\n",
    "        dW1, db1, dW2, db2, dW3, db3 = backward(W1, Z1, A1, W2, Z2, A2, W3, Z3, A3, X, y)\n",
    "        # update weights and biases based on calculated gradients\n",
    "        W1, b1, W2, b2, W3, b3 = update_params(W1, b1, W2, b2, W3, b3, dW1, db1, dW2, db2, dW3, db3, alpha)\n",
    "        # display prediction details every 100th epoch/iteration\n",
    "        if i == 0 or (i+1) % 100 == 0:\n",
    "            print(\"Iteration: {}\".format(i + 1))\n",
    "            predictions = get_predictions(A3)\n",
    "            print(\"Predicted Labels: {}, True Labels: {}\".format(predictions, y))\n",
    "            print(\"Accuracy: {}\".format(get_accuracy(predictions, y)))\n",
    "    return W1, b1, W2, b2, W3, b3"
   ]
  },
  {
   "cell_type": "code",
   "execution_count": 18,
   "metadata": {
    "colab": {
     "base_uri": "https://localhost:8080/"
    },
    "id": "904-ZcFzJoGT",
    "outputId": "70bed2b7-9eab-4dbd-86cf-aaa49caec09f"
   },
   "outputs": [
    {
     "name": "stdout",
     "output_type": "stream",
     "text": [
      "Iteration: 1\n",
      "Predicted Labels: [8 0 3 ... 0 8 3], True Labels: [5 0 4 ... 5 6 8]\n",
      "Accuracy: 0.09796666666666666\n",
      "Iteration: 100\n",
      "Predicted Labels: [5 0 8 ... 5 6 7], True Labels: [5 0 4 ... 5 6 8]\n",
      "Accuracy: 0.63695\n",
      "Iteration: 200\n",
      "Predicted Labels: [5 0 8 ... 5 6 8], True Labels: [5 0 4 ... 5 6 8]\n",
      "Accuracy: 0.759\n",
      "Iteration: 300\n",
      "Predicted Labels: [3 0 8 ... 5 6 8], True Labels: [5 0 4 ... 5 6 8]\n",
      "Accuracy: 0.8079666666666667\n",
      "Iteration: 400\n",
      "Predicted Labels: [3 0 8 ... 5 6 8], True Labels: [5 0 4 ... 5 6 8]\n",
      "Accuracy: 0.8316166666666667\n",
      "Iteration: 500\n",
      "Predicted Labels: [3 0 8 ... 5 6 8], True Labels: [5 0 4 ... 5 6 8]\n",
      "Accuracy: 0.8489833333333333\n",
      "Iteration: 600\n",
      "Predicted Labels: [3 0 8 ... 5 6 8], True Labels: [5 0 4 ... 5 6 8]\n",
      "Accuracy: 0.8608666666666667\n",
      "Iteration: 700\n",
      "Predicted Labels: [3 0 4 ... 5 6 8], True Labels: [5 0 4 ... 5 6 8]\n",
      "Accuracy: 0.8697666666666667\n",
      "Iteration: 800\n",
      "Predicted Labels: [3 0 4 ... 5 6 8], True Labels: [5 0 4 ... 5 6 8]\n",
      "Accuracy: 0.87715\n",
      "Iteration: 900\n",
      "Predicted Labels: [3 0 4 ... 5 6 8], True Labels: [5 0 4 ... 5 6 8]\n",
      "Accuracy: 0.8829166666666667\n",
      "Iteration: 1000\n",
      "Predicted Labels: [3 0 4 ... 5 6 8], True Labels: [5 0 4 ... 5 6 8]\n",
      "Accuracy: 0.8882\n",
      "Iteration: 1100\n",
      "Predicted Labels: [3 0 4 ... 5 6 8], True Labels: [5 0 4 ... 5 6 8]\n",
      "Accuracy: 0.8923\n",
      "Iteration: 1200\n",
      "Predicted Labels: [3 0 4 ... 5 6 8], True Labels: [5 0 4 ... 5 6 8]\n",
      "Accuracy: 0.8960833333333333\n",
      "Iteration: 1300\n",
      "Predicted Labels: [3 0 4 ... 5 6 8], True Labels: [5 0 4 ... 5 6 8]\n",
      "Accuracy: 0.8988\n",
      "Iteration: 1400\n",
      "Predicted Labels: [3 0 4 ... 5 6 8], True Labels: [5 0 4 ... 5 6 8]\n",
      "Accuracy: 0.90175\n",
      "Iteration: 1500\n",
      "Predicted Labels: [3 0 4 ... 5 6 8], True Labels: [5 0 4 ... 5 6 8]\n",
      "Accuracy: 0.9044166666666666\n",
      "Iteration: 1600\n",
      "Predicted Labels: [3 0 4 ... 5 6 8], True Labels: [5 0 4 ... 5 6 8]\n",
      "Accuracy: 0.9063666666666667\n",
      "Iteration: 1700\n",
      "Predicted Labels: [3 0 4 ... 5 6 8], True Labels: [5 0 4 ... 5 6 8]\n",
      "Accuracy: 0.9078833333333334\n",
      "Iteration: 1800\n",
      "Predicted Labels: [3 0 4 ... 5 6 8], True Labels: [5 0 4 ... 5 6 8]\n",
      "Accuracy: 0.9101166666666667\n",
      "Iteration: 1900\n",
      "Predicted Labels: [3 0 4 ... 5 6 8], True Labels: [5 0 4 ... 5 6 8]\n",
      "Accuracy: 0.9118833333333334\n",
      "Iteration: 2000\n",
      "Predicted Labels: [3 0 4 ... 5 6 8], True Labels: [5 0 4 ... 5 6 8]\n",
      "Accuracy: 0.9132\n"
     ]
    }
   ],
   "source": [
    "# get final weights and biases\n",
    "W1, b1, W2, b2, W3, b3 = gradient_descent(X_train, y_train, 0.10, 2000)"
   ]
  },
  {
   "cell_type": "code",
   "execution_count": 19,
   "metadata": {
    "id": "Lq4YL-QtJcek"
   },
   "outputs": [],
   "source": [
    "# save the trained model parameters: weights and biases\n",
    "params = (W1, b1, W2, b2, W3, b3)\n",
    "params_file = open(\"params.pkl\",\"wb\")\n",
    "pickle.dump(params, params_file)\n",
    "params_file.close()"
   ]
  },
  {
   "cell_type": "markdown",
   "metadata": {
    "id": "fnD8A_PoKEkm"
   },
   "source": [
    "#### Test"
   ]
  },
  {
   "cell_type": "code",
   "execution_count": 20,
   "metadata": {
    "id": "ZeIY_AomK_sG"
   },
   "outputs": [],
   "source": [
    "# load the saved model parameters: weights and biases\n",
    "params_file = open(\"params.pkl\", \"rb\")\n",
    "params = pickle.load(params_file)\n",
    "W1, b1, W2, b2, W3, b3 = params\n",
    "params_file.close()"
   ]
  },
  {
   "cell_type": "code",
   "execution_count": 21,
   "metadata": {
    "id": "DNwAxKmaCLFC"
   },
   "outputs": [],
   "source": [
    "def predict(X, W1, b1, W2, b2, W3, b3):\n",
    "    _, _, _, _, _, A3 = forward(W1, b1, W2, b2, W3, b3, X)\n",
    "    predictions = get_predictions(A3)\n",
    "    return predictions\n",
    "\n",
    "def visualize_predictions(idx, W1, b1, W2, b2, W3, b3):\n",
    "    current_image = X_test[:, idx, None]\n",
    "    prediction = predict(current_image, W1, b1, W2, b2, W3, b3)\n",
    "    label = y_test[idx]\n",
    "    print(\"Predicted Label: {}, True Label: {}\".format(prediction, label))\n",
    "    image_side = int(np.sqrt(X_test.T[idx].size))  # 28 is the value of each side of an image\n",
    "    current_image = current_image.reshape((image_side, image_side)) * 255\n",
    "    plt.imshow(current_image, cmap='gray')\n",
    "    plt.show()\n",
    "\n",
    "def test(X, y, W1, b1, W2, b2, W3, b3):\n",
    "    y_predicted = predict(X, W1, b1, W2, b2, W3, b3)\n",
    "    test_accuracy = get_accuracy(y_predicted, y)\n",
    "    print(\"Test Accuracy: {}\".format(test_accuracy))"
   ]
  },
  {
   "cell_type": "code",
   "execution_count": 22,
   "metadata": {
    "colab": {
     "base_uri": "https://localhost:8080/"
    },
    "id": "5uCRJZaZUSnr",
    "outputId": "b3223a88-f282-4c66-d4f8-c2db941c5644"
   },
   "outputs": [
    {
     "name": "stdout",
     "output_type": "stream",
     "text": [
      "Test Accuracy: 0.9157\n"
     ]
    }
   ],
   "source": [
    "# get the accuracy of the trained model on the test set that contains images NOT seen by the model yet\n",
    "test(X_test, y_test, W1, b1, W2, b2, W3, b3)"
   ]
  },
  {
   "cell_type": "code",
   "execution_count": 23,
   "metadata": {
    "colab": {
     "base_uri": "https://localhost:8080/",
     "height": 1000
    },
    "id": "sSnVr2rhH_CO",
    "outputId": "11dd29ca-f48f-4f14-fb35-f3af8572bd05"
   },
   "outputs": [
    {
     "name": "stdout",
     "output_type": "stream",
     "text": [
      "Predicted Label: [0], True Label: 0\n"
     ]
    },
    {
     "data": {
      "image/png": "[encoded data removed]",
      "text/plain": [
       "<Figure size 640x480 with 1 Axes>"
      ]
     },
     "metadata": {},
     "output_type": "display_data"
    },
    {
     "name": "stdout",
     "output_type": "stream",
     "text": [
      "Predicted Label: [8], True Label: 8\n"
     ]
    },
    {
     "data": {
      "image/png": "[encoded data removed]",
      "text/plain": [
       "<Figure size 640x480 with 1 Axes>"
      ]
     },
     "metadata": {},
     "output_type": "display_data"
    },
    {
     "name": "stdout",
     "output_type": "stream",
     "text": [
      "Predicted Label: [3], True Label: 3\n"
     ]
    },
    {
     "data": {
      "image/png": "[encoded data removed]",
      "text/plain": [
       "<Figure size 640x480 with 1 Axes>"
      ]
     },
     "metadata": {},
     "output_type": "display_data"
    },
    {
     "name": "stdout",
     "output_type": "stream",
     "text": [
      "Predicted Label: [5], True Label: 5\n"
     ]
    },
    {
     "data": {
      "image/png": "[encoded data removed]",
      "text/plain": [
       "<Figure size 640x480 with 1 Axes>"
      ]
     },
     "metadata": {},
     "output_type": "display_data"
    },
    {
     "name": "stdout",
     "output_type": "stream",
     "text": [
      "Predicted Label: [3], True Label: 3\n"
     ]
    },
    {
     "data": {
      "image/png": "[encoded data removed]",
      "text/plain": [
       "<Figure size 640x480 with 1 Axes>"
      ]
     },
     "metadata": {},
     "output_type": "display_data"
    }
   ],
   "source": [
    "# visualize model predictions on images from test set\n",
    "times = 5\n",
    "for i in range(times):\n",
    "    visualize_predictions(random.randint(0, X_test.shape[1]), W1, b1, W2, b2, W3, b3)"
   ]
  },
  {
   "cell_type": "code",
   "execution_count": 22,
   "metadata": {
    "id": "jsSC4UTNU7AD"
   },
   "outputs": [],
   "source": []
  }
 ],
 "metadata": {
  "colab": {
   "collapsed_sections": [
    "NYDQNxq5ZWt3",
    "DwEqRImDZacf",
    "85lRqymNKAYG"
   ],
   "provenance": []
  },
  "gpuClass": "standard",
  "kernelspec": {
   "display_name": "Python 3 (ipykernel)",
   "language": "python",
   "name": "python3"
  },
  "language_info": {
   "codemirror_mode": {
    "name": "ipython",
    "version": 3
   },
   "file_extension": ".py",
   "mimetype": "text/x-python",
   "name": "python",
   "nbconvert_exporter": "python",
   "pygments_lexer": "ipython3",
   "version": "3.8.9"
  },
  "vscode": {
   "interpreter": {
    "hash": "28e78c98505ebb0bf9546ba9bc94448c8748d3906dc0983800dfefaf5ebdfb7a"
   }
  }
 },
 "nbformat": 4,
 "nbformat_minor": 1
}
